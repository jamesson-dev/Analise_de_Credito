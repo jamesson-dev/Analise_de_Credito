{
  "nbformat": 4,
  "nbformat_minor": 0,
  "metadata": {
    "colab": {
      "provenance": [],
      "authorship_tag": "ABX9TyOIEAwqseT49tesathHi0xI",
      "include_colab_link": true
    },
    "kernelspec": {
      "name": "python3",
      "display_name": "Python 3"
    },
    "language_info": {
      "name": "python"
    }
  },
  "cells": [
    {
      "cell_type": "markdown",
      "metadata": {
        "id": "view-in-github",
        "colab_type": "text"
      },
      "source": [
        "<a href=\"https://colab.research.google.com/github/jamesson-dev/Analise_de_Credito/blob/main/Modelo_credito.ipynb\" target=\"_parent\"><img src=\"https://colab.research.google.com/assets/colab-badge.svg\" alt=\"Open In Colab\"/></a>"
      ]
    },
    {
      "cell_type": "markdown",
      "source": [
        "#Modelo_Credito\n"
      ],
      "metadata": {
        "id": "XanAQQnujjNH"
      }
    },
    {
      "cell_type": "code",
      "source": [
        "# #import the dataset\n",
        "# dataset = pd.read_excel('sample_data/Folds5x2_pp.xlsx')"
      ],
      "metadata": {
        "id": "evGcplZogLdO"
      },
      "execution_count": null,
      "outputs": []
    },
    {
      "cell_type": "code",
      "source": [
        "# X = dataset.iloc[:, :-1].values\n",
        "# Y = dataset.iloc[:, -1].values\n"
      ],
      "metadata": {
        "id": "booVsVHI-U30"
      },
      "execution_count": null,
      "outputs": []
    },
    {
      "cell_type": "code",
      "source": [
        "pip install lifelines"
      ],
      "metadata": {
        "id": "EIA2fNRn4O-c"
      },
      "execution_count": null,
      "outputs": []
    },
    {
      "cell_type": "code",
      "execution_count": 2,
      "metadata": {
        "id": "1RgUeCnqfRxE"
      },
      "outputs": [],
      "source": [
        "import pandas as pd\n",
        "from lifelines import KaplanMeierFitter, CoxPHFitter\n",
        "from lifelines.plotting import plot_lifetimes\n",
        "import matplotlib.pyplot as plt\n",
        "import numpy as np\n",
        "import matplotlib.pyplot as plt\n",
        "import seaborn as sns\n"
      ]
    },
    {
      "cell_type": "code",
      "source": [
        "# Carregar dados do Excel\n",
        "credito = pd.read_excel(\"/content/sample_data/Crédito.xlsx\")"
      ],
      "metadata": {
        "id": "BsURJVwOkUSQ"
      },
      "execution_count": 30,
      "outputs": []
    },
    {
      "cell_type": "code",
      "source": [
        "print(credito.columns)\n"
      ],
      "metadata": {
        "colab": {
          "base_uri": "https://localhost:8080/"
        },
        "id": "V9ISozKbAgCn",
        "outputId": "74825371-a8e3-4957-b1d2-71b085a04139"
      },
      "execution_count": 31,
      "outputs": [
        {
          "output_type": "stream",
          "name": "stdout",
          "text": [
            "Index(['Data Originação', 'Cliente', 'Status', 'Score', 'Data default',\n",
            "       'Data Corte', 'Data', 'Time', 'Rating', 'Rating_b', 'Rating_c'],\n",
            "      dtype='object')\n"
          ]
        }
      ]
    },
    {
      "cell_type": "code",
      "source": [
        "print(credito)"
      ],
      "metadata": {
        "colab": {
          "base_uri": "https://localhost:8080/"
        },
        "id": "e6achO6DB4PJ",
        "outputId": "2e77c100-0b75-47cb-8979-b6fabb3fd5c2"
      },
      "execution_count": 32,
      "outputs": [
        {
          "output_type": "stream",
          "name": "stdout",
          "text": [
            "    Data Originação Cliente  Status       Score            Data default  \\\n",
            "0        2012-01-01      A1       0 -224.254433                     NaT   \n",
            "1        2012-01-01      A2       0   76.782279                     NaT   \n",
            "2        2012-01-01      A3       0 -272.467118                     NaT   \n",
            "3        2012-01-01      A4       0  117.688571                     NaT   \n",
            "4        2012-01-01      A5       0  183.419335                     NaT   \n",
            "..              ...     ...     ...         ...                     ...   \n",
            "160      2012-03-01    A161       0  467.299782                     NaT   \n",
            "161      2012-03-01    A162       0   49.907676                     NaT   \n",
            "162      2012-03-01    A163       0 -201.797136                     NaT   \n",
            "163      2012-03-01    A164       1    7.836374 2012-11-03 01:49:53.427   \n",
            "164      2012-03-01    A165       1 -500.000000 2012-11-08 16:24:32.931   \n",
            "\n",
            "    Data Corte                    Data        Time Rating  Rating_b  Rating_c  \n",
            "0   2013-01-01 2013-01-01 00:00:00.000  366.000000      C         0         1  \n",
            "1   2013-01-01 2013-01-01 00:00:00.000  366.000000      B         1         0  \n",
            "2   2013-01-01 2013-01-01 00:00:00.000  366.000000      C         0         1  \n",
            "3   2013-01-01 2013-01-01 00:00:00.000  366.000000      B         1         0  \n",
            "4   2013-01-01 2013-01-01 00:00:00.000  366.000000      B         1         0  \n",
            "..         ...                     ...         ...    ...       ...       ...  \n",
            "160 2013-01-01 2013-01-01 00:00:00.000  306.000000      A         0         0  \n",
            "161 2013-01-01 2013-01-01 00:00:00.000  306.000000      B         1         0  \n",
            "162 2013-01-01 2013-01-01 00:00:00.000  306.000000      C         0         1  \n",
            "163 2013-01-01 2012-11-03 01:49:53.427  247.076313      B         1         0  \n",
            "164 2013-01-01 2012-11-08 16:24:32.931  252.683714      C         0         1  \n",
            "\n",
            "[165 rows x 11 columns]\n"
          ]
        }
      ]
    },
    {
      "cell_type": "code",
      "source": [
        "# Ajustar e sumarizar o modelo de Kaplan-Meier para todos os dados\n",
        "kmf = KaplanMeierFitter()\n",
        "kmf.fit(durations=credito['Time'], event_observed=credito['Status'])\n",
        "kmf.plot_survival_function()\n",
        "plt.title('Kaplan-Meier Survival Curve - All Data')\n",
        "plt.show()"
      ],
      "metadata": {
        "colab": {
          "base_uri": "https://localhost:8080/",
          "height": 472
        },
        "id": "mEz-WxyB6cxu",
        "outputId": "611882aa-67c7-4293-bec0-cc1b0358af21"
      },
      "execution_count": 33,
      "outputs": [
        {
          "output_type": "display_data",
          "data": {
            "text/plain": [
              "<Figure size 640x480 with 1 Axes>"
            ],
            "image/png": "[encoded data removed]"
          },
          "metadata": {}
        }
      ]
    },
    {
      "cell_type": "code",
      "source": [
        "# Criar uma variável dummy baseada na pontuação\n",
        "credito['dummy_score'] = (credito['Score'] > 100).astype(int)"
      ],
      "metadata": {
        "id": "FtyObMwcA6Iq"
      },
      "execution_count": 34,
      "outputs": []
    },
    {
      "cell_type": "code",
      "source": [
        "# Ajustar e sumarizar o modelo de Kaplan-Meier para os dados agrupados por 'dummy_score'\n",
        "\n",
        "kmf_grouped = KaplanMeierFitter()\n",
        "kmf_grouped.fit(durations=credito['Time'], event_observed=credito['Status'],\n",
        "                label='dummy_score')\n",
        "kmf_grouped.plot_survival_function()\n",
        "plt.title('Kaplan-Meier Survival Curve - Grouped by dummy_score')\n",
        "plt.show()"
      ],
      "metadata": {
        "colab": {
          "base_uri": "https://localhost:8080/",
          "height": 472
        },
        "id": "FuBL2ZEAHp-5",
        "outputId": "9b5c1b84-fd26-4b6b-fc78-32d391653580"
      },
      "execution_count": 35,
      "outputs": [
        {
          "output_type": "display_data",
          "data": {
            "text/plain": [
              "<Figure size 640x480 with 1 Axes>"
            ],
            "image/png": "[encoded data removed]"
          },
          "metadata": {}
        }
      ]
    },
    {
      "cell_type": "code",
      "source": [
        "# Supondo que 'credito' seja um DataFrame com as colunas 'Score', 'Time' e 'Status'\n",
        "credito['dummy_score'] = (credito['Score'] > 100).astype(int)\n",
        "\n",
        "# Separar os dados em dois grupos\n",
        "group_above_100 = credito[credito['dummy_score'] == 1]\n",
        "group_below_or_equal_100 = credito[credito['dummy_score'] == 0]\n",
        "\n",
        "# Ajustar o modelo de Kaplan-Meier para cada grupo\n",
        "kmf_above_100 = KaplanMeierFitter()\n",
        "kmf_below_or_equal_100 = KaplanMeierFitter()\n",
        "\n",
        "kmf_above_100.fit(durations=group_above_100['Time'], event_observed=group_above_100['Status'], label='Score > 100')\n",
        "kmf_below_or_equal_100.fit(durations=group_below_or_equal_100['Time'], event_observed=group_below_or_equal_100['Status'], label='Score ≤ 100')\n",
        "\n",
        "# Plotar as funções de sobrevivência para cada grupo\n",
        "ax = kmf_above_100.plot_survival_function()\n",
        "kmf_below_or_equal_100.plot_survival_function(ax=ax)\n",
        "\n",
        "plt.title('Kaplan-Meier Survival Curve - Grouped by Score')\n",
        "plt.show()\n"
      ],
      "metadata": {
        "id": "Q5SsD3PsPM5e",
        "colab": {
          "base_uri": "https://localhost:8080/",
          "height": 472
        },
        "outputId": "69272235-ca77-44d9-93a4-47fbb1825ab5"
      },
      "execution_count": 36,
      "outputs": [
        {
          "output_type": "display_data",
          "data": {
            "text/plain": [
              "<Figure size 640x480 with 1 Axes>"
            ],
            "image/png": "[encoded data removed]"
          },
          "metadata": {}
        }
      ]
    },
    {
      "cell_type": "code",
      "source": [
        "# Supondo que 'credito' seja um DataFrame com as colunas 'Score', 'Time' e 'Status'\n",
        "credito['dummy_score'] = (credito['Score'] > 100).astype(int)\n",
        "\n",
        "# Separar os dados em dois grupos\n",
        "group_above_100 = credito[credito['dummy_score'] == 1]\n",
        "group_below_or_equal_100 = credito[credito['dummy_score'] == 0]\n",
        "\n",
        "# Ajustar o modelo de Kaplan-Meier para cada grupo\n",
        "kmf_above_100 = KaplanMeierFitter()\n",
        "kmf_below_or_equal_100 = KaplanMeierFitter()\n",
        "\n",
        "kmf_above_100.fit(durations=group_above_100['Time'], event_observed=group_above_100['Status'], label='Score > 100')\n",
        "kmf_below_or_equal_100.fit(durations=group_below_or_equal_100['Time'], event_observed=group_below_or_equal_100['Status'], label='Score ≤ 100')\n",
        "\n",
        "# Definir os pontos de tempo desejados\n",
        "timeline = [30, 60, 90, 120, 150, 180, 210, 240, 270, 300, 330, 360]\n",
        "\n",
        "# Obter as estimativas de sobrevivência para cada grupo nos pontos de tempo especificados\n",
        "survival_above_100_at_timeline = kmf_above_100.predict(timeline)\n",
        "survival_below_or_equal_100_at_timeline = kmf_below_or_equal_100.predict(timeline)\n",
        "\n",
        "# Criar um DataFrame com as estimativas\n",
        "survival_estimates = pd.DataFrame({\n",
        "    'Time': timeline,\n",
        "    'Survival Score > 100': survival_above_100_at_timeline,\n",
        "    'Survival Score ≤ 100': survival_below_or_equal_100_at_timeline\n",
        "})\n",
        "\n",
        "# Visualizar a tabela de estimativas\n",
        "print(survival_estimates)"
      ],
      "metadata": {
        "colab": {
          "base_uri": "https://localhost:8080/"
        },
        "id": "_HuepGHCQ9VR",
        "outputId": "b3b97c49-6f1b-47a5-a359-1720f1beac04"
      },
      "execution_count": 37,
      "outputs": [
        {
          "output_type": "stream",
          "name": "stdout",
          "text": [
            "     Time  Survival Score > 100  Survival Score ≤ 100\n",
            "30     30              1.000000              0.990000\n",
            "60     60              0.969231              0.990000\n",
            "90     90              0.953846              0.980000\n",
            "120   120              0.953846              0.980000\n",
            "150   150              0.953846              0.930000\n",
            "180   180              0.953846              0.920000\n",
            "210   210              0.953846              0.910000\n",
            "240   240              0.953846              0.910000\n",
            "270   270              0.953846              0.880000\n",
            "300   300              0.953846              0.840000\n",
            "330   330              0.953846              0.808889\n",
            "360   360              0.929389              0.808889\n"
          ]
        }
      ]
    },
    {
      "cell_type": "code",
      "source": [
        "# Ajustar o modelo de Cox somente com 'Score' como variável\n",
        "cph_score = CoxPHFitter()\n",
        "cph_score.fit(credito, 'Time', event_col='Status', formula = [\"Rating_b\", \"Rating_c\"])\n",
        "cph_score.print_summary(decimals=4)"
      ],
      "metadata": {
        "colab": {
          "base_uri": "https://localhost:8080/",
          "height": 505
        },
        "id": "Op7jmqIPNQpm",
        "outputId": "83851521-7a6a-40e0-cb1a-5db0817964f7"
      },
      "execution_count": 40,
      "outputs": [
        {
          "output_type": "display_data",
          "data": {
            "text/plain": [
              "<lifelines.CoxPHFitter: fitted with 165 total observations, 143 right-censored observations>\n",
              "             duration col = 'Time'\n",
              "                event col = 'Status'\n",
              "      baseline estimation = breslow\n",
              "   number of observations = 165\n",
              "number of events observed = 22\n",
              "   partial log-likelihood = -107.4726\n",
              "         time fit was run = 2024-08-05 18:22:00 UTC\n",
              "\n",
              "---\n",
              "            coef  exp(coef)   se(coef)   coef lower 95%   coef upper 95%  exp(coef) lower 95%  exp(coef) upper 95%\n",
              "covariate                                                                                                         \n",
              "Rating_b  1.1365     3.1157     0.8165          -0.4639           2.7368               0.6288              15.4379\n",
              "Rating_c  1.2964     3.6562     0.7560          -0.1853           2.7781               0.8309              16.0890\n",
              "\n",
              "            cmp to      z      p   -log2(p)\n",
              "covariate                                  \n",
              "Rating_b    0.0000 1.3918 0.1640     2.6084\n",
              "Rating_c    0.0000 1.7149 0.0864     3.5333\n",
              "---\n",
              "Concordance = 0.6022\n",
              "Partial AIC = 218.9453\n",
              "log-likelihood ratio test = 4.0563 on 2 df\n",
              "-log2(p) of ll-ratio test = 2.9260"
            ],
            "text/html": [
              "<div>\n",
              "<style scoped>\n",
              "    .dataframe tbody tr th:only-of-type {\n",
              "        vertical-align: middle;\n",
              "    }\n",
              "\n",
              "    .dataframe tbody tr th {\n",
              "        vertical-align: top;\n",
              "    }\n",
              "\n",
              "    .dataframe thead th {\n",
              "        text-align: right;\n",
              "    }\n",
              "</style>\n",
              "<table border=\"1\" class=\"dataframe\">\n",
              "  <tbody>\n",
              "    <tr>\n",
              "      <th>model</th>\n",
              "      <td>lifelines.CoxPHFitter</td>\n",
              "    </tr>\n",
              "    <tr>\n",
              "      <th>duration col</th>\n",
              "      <td>'Time'</td>\n",
              "    </tr>\n",
              "    <tr>\n",
              "      <th>event col</th>\n",
              "      <td>'Status'</td>\n",
              "    </tr>\n",
              "    <tr>\n",
              "      <th>baseline estimation</th>\n",
              "      <td>breslow</td>\n",
              "    </tr>\n",
              "    <tr>\n",
              "      <th>number of observations</th>\n",
              "      <td>165</td>\n",
              "    </tr>\n",
              "    <tr>\n",
              "      <th>number of events observed</th>\n",
              "      <td>22</td>\n",
              "    </tr>\n",
              "    <tr>\n",
              "      <th>partial log-likelihood</th>\n",
              "      <td>-107.4726</td>\n",
              "    </tr>\n",
              "    <tr>\n",
              "      <th>time fit was run</th>\n",
              "      <td>2024-08-05 18:22:00 UTC</td>\n",
              "    </tr>\n",
              "  </tbody>\n",
              "</table>\n",
              "</div><table border=\"1\" class=\"dataframe\">\n",
              "  <thead>\n",
              "    <tr style=\"text-align: right;\">\n",
              "      <th style=\"min-width: 12px;\"></th>\n",
              "      <th style=\"min-width: 12px;\">coef</th>\n",
              "      <th style=\"min-width: 12px;\">exp(coef)</th>\n",
              "      <th style=\"min-width: 12px;\">se(coef)</th>\n",
              "      <th style=\"min-width: 12px;\">coef lower 95%</th>\n",
              "      <th style=\"min-width: 12px;\">coef upper 95%</th>\n",
              "      <th style=\"min-width: 12px;\">exp(coef) lower 95%</th>\n",
              "      <th style=\"min-width: 12px;\">exp(coef) upper 95%</th>\n",
              "      <th style=\"min-width: 12px;\">cmp to</th>\n",
              "      <th style=\"min-width: 12px;\">z</th>\n",
              "      <th style=\"min-width: 12px;\">p</th>\n",
              "      <th style=\"min-width: 12px;\">-log2(p)</th>\n",
              "    </tr>\n",
              "  </thead>\n",
              "  <tbody>\n",
              "    <tr>\n",
              "      <th>Rating_b</th>\n",
              "      <td>1.1365</td>\n",
              "      <td>3.1157</td>\n",
              "      <td>0.8165</td>\n",
              "      <td>-0.4639</td>\n",
              "      <td>2.7368</td>\n",
              "      <td>0.6288</td>\n",
              "      <td>15.4379</td>\n",
              "      <td>0.0000</td>\n",
              "      <td>1.3918</td>\n",
              "      <td>0.1640</td>\n",
              "      <td>2.6084</td>\n",
              "    </tr>\n",
              "    <tr>\n",
              "      <th>Rating_c</th>\n",
              "      <td>1.2964</td>\n",
              "      <td>3.6562</td>\n",
              "      <td>0.7560</td>\n",
              "      <td>-0.1853</td>\n",
              "      <td>2.7781</td>\n",
              "      <td>0.8309</td>\n",
              "      <td>16.0890</td>\n",
              "      <td>0.0000</td>\n",
              "      <td>1.7149</td>\n",
              "      <td>0.0864</td>\n",
              "      <td>3.5333</td>\n",
              "    </tr>\n",
              "  </tbody>\n",
              "</table><br><div>\n",
              "<style scoped>\n",
              "    .dataframe tbody tr th:only-of-type {\n",
              "        vertical-align: middle;\n",
              "    }\n",
              "\n",
              "    .dataframe tbody tr th {\n",
              "        vertical-align: top;\n",
              "    }\n",
              "\n",
              "    .dataframe thead th {\n",
              "        text-align: right;\n",
              "    }\n",
              "</style>\n",
              "<table border=\"1\" class=\"dataframe\">\n",
              "  <tbody>\n",
              "    <tr>\n",
              "      <th>Concordance</th>\n",
              "      <td>0.6022</td>\n",
              "    </tr>\n",
              "    <tr>\n",
              "      <th>Partial AIC</th>\n",
              "      <td>218.9453</td>\n",
              "    </tr>\n",
              "    <tr>\n",
              "      <th>log-likelihood ratio test</th>\n",
              "      <td>4.0563 on 2 df</td>\n",
              "    </tr>\n",
              "    <tr>\n",
              "      <th>-log2(p) of ll-ratio test</th>\n",
              "      <td>2.9260</td>\n",
              "    </tr>\n",
              "  </tbody>\n",
              "</table>\n",
              "</div>"
            ],
            "text/latex": "\\begin{tabular}{lrrrrrrrrrrr}\n & coef & exp(coef) & se(coef) & coef lower 95% & coef upper 95% & exp(coef) lower 95% & exp(coef) upper 95% & cmp to & z & p & -log2(p) \\\\\ncovariate &  &  &  &  &  &  &  &  &  &  &  \\\\\nRating_b & 1.1365 & 3.1157 & 0.8165 & -0.4639 & 2.7368 & 0.6288 & 15.4379 & 0.0000 & 1.3918 & 0.1640 & 2.6084 \\\\\nRating_c & 1.2964 & 3.6562 & 0.7560 & -0.1853 & 2.7781 & 0.8309 & 16.0890 & 0.0000 & 1.7149 & 0.0864 & 3.5333 \\\\\n\\end{tabular}\n"
          },
          "metadata": {}
        }
      ]
    },
    {
      "cell_type": "code",
      "source": [
        "# Ajustar o modelo de Cox para todos os dados e para 'Score'\n",
        "# cph = CoxPHFitter()\n",
        "# cph.fit(credito, duration_col='Time', event_col='Status')\n",
        "# cph.print_summary()"
      ],
      "metadata": {
        "id": "A97AbmetL542"
      },
      "execution_count": null,
      "outputs": []
    },
    {
      "cell_type": "code",
      "source": [
        "# # Plotar as estimativas de sobrevivência para o modelo de Cox\n",
        "# cph.plot()\n",
        "# plt.title('Cox Proportional Hazards Model - All Data')\n",
        "# plt.show()\n",
        "\n",
        "# cph_score.plot()\n",
        "# plt.title('Cox Proportional Hazards Model - Score')\n",
        "# plt.show()\n"
      ],
      "metadata": {
        "id": "v5Qbu7NBNSNT"
      },
      "execution_count": null,
      "outputs": []
    },
    {
      "cell_type": "code",
      "source": [],
      "metadata": {
        "id": "X_7BRAurNUpz"
      },
      "execution_count": null,
      "outputs": []
    },
    {
      "cell_type": "markdown",
      "source": [],
      "metadata": {
        "id": "-sC2GxIDjTM8"
      }
    }
  ]
}